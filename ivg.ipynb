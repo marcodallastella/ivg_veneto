{
 "cells": [
  {
   "cell_type": "code",
   "execution_count": null,
   "metadata": {},
   "outputs": [],
   "source": [
    "import pandas as pd\n",
    "from time import sleep\n",
    "import requests\n",
    "from dotenv import load_dotenv\n",
    "import os"
   ]
  },
  {
   "cell_type": "code",
   "execution_count": null,
   "metadata": {},
   "outputs": [],
   "source": [
    "# Load environment variables\n",
    "load_dotenv()\n",
    "\n",
    "headers = {\n",
    "    'Accept': 'application/json, text/plain, */*',\n",
    "    'Accept-Language': 'en-US,en;q=0.7',\n",
    "    'Authorization': 'Bearer null',\n",
    "    'Connection': 'keep-alive',\n",
    "    'Referer': 'https://salute.regione.veneto.it/ivgStatistiche/',\n",
    "    'Sec-Fetch-Dest': 'empty',\n",
    "    'Sec-Fetch-Mode': 'cors',\n",
    "    'Sec-Fetch-Site': 'same-origin',\n",
    "    'Sec-GPC': '1',\n",
    "    'User-Agent': os.getenv('USER_AGENT'),\n",
    "    'dnt': '1',\n",
    "    'sec-ch-ua': f'\"Brave\";v=\"{os.getenv(\"BROWSER_VERSION\")}\", \"Chromium\";v=\"{os.getenv(\"BROWSER_VERSION\")}\", \"Not_A Brand\";v=\"24\"',\n",
    "    'sec-ch-ua-mobile': '?0',\n",
    "    'sec-ch-ua-platform': f'\"{os.getenv(\"PLATFORM\")}\"',\n",
    "}"
   ]
  },
  {
   "cell_type": "code",
   "execution_count": null,
   "metadata": {},
   "outputs": [],
   "source": [
    "aziende_ids = list(range(101, 123)) + list(range(501, 510)) + [901, 912]\n",
    "\n",
    "anni_search = [1,2,3,4,5,6,7,8]\n",
    "\n",
    "# Initialize empty lists to store the data\n",
    "nomi = []\n",
    "valori = []\n",
    "anni = []\n",
    "\n",
    "for anno in anni_search: \n",
    "  for aziende_id in aziende_ids:\n",
    "    params = {\n",
    "      'annoA': anno,\n",
    "      'annoDa': anno,\n",
    "      'idAzienda': aziende_id,\n",
    "      'idTipoGrafico': '8',\n",
    "      'isCategoriaEnable': 'false',\n",
    "      'isCategoriaMax1': 'false',\n",
    "    }\n",
    "\n",
    "    response = requests.get('https://salute.regione.veneto.it/ivgStatistiche/api/grafico', params=params, headers=headers)\n",
    "    data = response.json()\n",
    "\n",
    "    if 'graficoTortaDto' not in data or data['graficoTortaDto'] is None:\n",
    "        print(f\"Skipping azienda {aziende_id} for year {anno} - no data found\")\n",
    "        continue\n",
    "\n",
    "    aziende = data['graficoTortaDto']\n",
    "    for azienda in aziende:\n",
    "      nome = azienda['name']\n",
    "      valore = azienda['value']\n",
    "      print(f\"{anno} - IVG {nome}: {valore}\")\n",
    "\n",
    "      # Append each nome and valore to their respective lists\n",
    "      nomi.append(nome)\n",
    "      valori.append(valore)\n",
    "      anni.append(anno)\n",
    "\n",
    "    sleep(1)\n",
    "\n",
    "# Create the DataFrame after the loop is complete\n",
    "df = pd.DataFrame({\n",
    "    'nome_azienda': nomi,\n",
    "    'valore': valori,\n",
    "    'anno': anni\n",
    "})"
   ]
  },
  {
   "cell_type": "code",
   "execution_count": null,
   "metadata": {},
   "outputs": [],
   "source": [
    "anni_mapping = {\n",
    "    1: 2015,\n",
    "    2: 2016,\n",
    "    3: 2017,\n",
    "    4: 2018,\n",
    "    5: 2019,\n",
    "    6: 2020,\n",
    "    7: 2021,\n",
    "    8: 2022\n",
    "}\n",
    "df['anno_id'] = df['anno']\n",
    "df['anno'] = df['anno_id'].map(anni_mapping)\n",
    "df['valore'] = df['valore'].astype(int)"
   ]
  },
  {
   "cell_type": "code",
   "execution_count": null,
   "metadata": {},
   "outputs": [],
   "source": [
    "df.to_csv('output/ivg_effettuate.csv', index=False, encoding='UTF-8')"
   ]
  }
 ],
 "metadata": {
  "kernelspec": {
   "display_name": "Python 3",
   "language": "python",
   "name": "python3"
  },
  "language_info": {
   "codemirror_mode": {
    "name": "ipython",
    "version": 3
   },
   "file_extension": ".py",
   "mimetype": "text/x-python",
   "name": "python",
   "nbconvert_exporter": "python",
   "pygments_lexer": "ipython3",
   "version": "3.10.11"
  }
 },
 "nbformat": 4,
 "nbformat_minor": 2
}
